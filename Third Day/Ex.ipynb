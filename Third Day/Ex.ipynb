{
 "cells": [
  {
   "cell_type": "code",
   "execution_count": 4,
   "metadata": {},
   "outputs": [
    {
     "name": "stdout",
     "output_type": "stream",
     "text": [
      "Oranges are Out of Stock\n",
      "Inventory lits:-->\n",
      "-Apple\n",
      "-Mango\n",
      "-Litchi\n",
      "-Kiwi\n",
      "-Peach\n",
      "-BlackBerry\n"
     ]
    }
   ],
   "source": [
    "#Managing a inventory\n",
    "inventory = [\"Apple\",\"Mango\",\"Litchi\",\"Kiwi\",\"Peach\"]\n",
    "\n",
    "#Adding new inventory\n",
    "inventory.append(\"BlackBerry\")\n",
    "\n",
    "#Removing an item-> out of stock\n",
    "item=\"Oranges\"\n",
    "if item in inventory:\n",
    "    print(f\"{item} are in stock\")\n",
    "else:\n",
    "    print(f\"{item} are Out of Stock\")\n",
    "    # print Inventory List\n",
    "print(\"Inventory lits:-->\")\n",
    "for item in inventory:\n",
    "    print(f\"-{item}\")"
   ]
  },
  {
   "cell_type": "code",
   "execution_count": null,
   "metadata": {},
   "outputs": [],
   "source": []
  }
 ],
 "metadata": {
  "kernelspec": {
   "display_name": "base",
   "language": "python",
   "name": "python3"
  },
  "language_info": {
   "codemirror_mode": {
    "name": "ipython",
    "version": 3
   },
   "file_extension": ".py",
   "mimetype": "text/x-python",
   "name": "python",
   "nbconvert_exporter": "python",
   "pygments_lexer": "ipython3",
   "version": "3.11.7"
  }
 },
 "nbformat": 4,
 "nbformat_minor": 2
}
