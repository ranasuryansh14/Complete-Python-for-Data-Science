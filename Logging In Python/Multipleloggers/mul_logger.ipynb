{
 "cells": [
  {
   "cell_type": "markdown",
   "metadata": {},
   "source": [
    "#### Multiple Logger "
   ]
  },
  {
   "cell_type": "code",
   "execution_count": 12,
   "metadata": {},
   "outputs": [],
   "source": [
    "import logging\n",
    "# create a logger for module\n",
    "logger1= logging.getLogger('Module-1')\n",
    "logger1.setLevel(logging.DEBUG)\n",
    "\n",
    "#create a logger for module 2\n",
    "\n",
    "logger2 = logging.getLogger('Module-2')\n",
    "logger2.setLevel(logging.WARNING)\n",
    "\n",
    "#configure logging settings\n",
    "logging.basicConfig(\n",
    "    level=logging.DEBUG,\n",
    "    format='%(asctime)s - %(name)s - %(levelname)s - %(message)s',\n",
    "    datefmt='%Y-%m-%d %H:%M:%S'\n",
    ")"
   ]
  },
  {
   "cell_type": "code",
   "execution_count": 13,
   "metadata": {},
   "outputs": [
    {
     "name": "stderr",
     "output_type": "stream",
     "text": [
      "2024-08-19 18:41:31 - Module-1 - DEBUG - This is debug message for module 1\n",
      "2024-08-19 18:41:31 - Module-2 - WARNING - This is warning message for module 2\n",
      "2024-08-19 18:41:32 - Module-2 - ERROR - This is ERROR message\n"
     ]
    }
   ],
   "source": [
    "## Log message with different logger\n",
    "logger1.debug(\"This is debug message for module 1\") \n",
    "logger2.warning(\"This is warning message for module 2\") \n",
    "logger2.error(\"This is ERROR message\") "
   ]
  }
 ],
 "metadata": {
  "kernelspec": {
   "display_name": "base",
   "language": "python",
   "name": "python3"
  },
  "language_info": {
   "codemirror_mode": {
    "name": "ipython",
    "version": 3
   },
   "file_extension": ".py",
   "mimetype": "text/x-python",
   "name": "python",
   "nbconvert_exporter": "python",
   "pygments_lexer": "ipython3",
   "version": "3.11.7"
  }
 },
 "nbformat": 4,
 "nbformat_minor": 2
}
