{
 "cells": [
  {
   "cell_type": "code",
   "execution_count": 3,
   "metadata": {},
   "outputs": [
    {
     "name": "stdout",
     "output_type": "stream",
     "text": [
      "ELSE Stmt\n"
     ]
    }
   ],
   "source": [
    "a = 3.0\n",
    "if a>3:\n",
    "    print(\"IF Stmt\")\n",
    "else:\n",
    "    print(\"ELSE Stmt\")"
   ]
  },
  {
   "cell_type": "code",
   "execution_count": 7,
   "metadata": {},
   "outputs": [
    {
     "name": "stdout",
     "output_type": "stream",
     "text": [
      "Enter the age : \n",
      "22\n",
      "You can vote\n"
     ]
    }
   ],
   "source": [
    "# Voting Program\n",
    "age = int(input(print(\"Enter the age : \")))\n",
    "print(age)\n",
    "if age>=18:\n",
    "    print(\"You can vote\")\n",
    "else:\n",
    "    print(\"You are Minor\")"
   ]
  },
  {
   "cell_type": "code",
   "execution_count": 9,
   "metadata": {},
   "outputs": [
    {
     "name": "stdout",
     "output_type": "stream",
     "text": [
      "Enter Num to check\n",
      "3\n",
      "ODD\n"
     ]
    }
   ],
   "source": [
    "# Even OR Odd check\n",
    "num = int(input(print(\"Enter Num to check\")))\n",
    "print(num)\n",
    "if num%2==0:\n",
    "    print(\"EVEN\")\n",
    "else:\n",
    "    print(\"ODD\")"
   ]
  },
  {
   "cell_type": "code",
   "execution_count": 10,
   "metadata": {},
   "outputs": [
    {
     "name": "stdout",
     "output_type": "stream",
     "text": [
      "Enter Year to check\n",
      "2012\n",
      "2012 is Leap year\n"
     ]
    }
   ],
   "source": [
    "# Leap Year Check\n",
    "yr = int(input(print(\"Enter Year to check\")))\n",
    "print(yr)\n",
    "if yr%4==0:\n",
    "    if yr%100==0:\n",
    "        if yr%400:\n",
    "            print(yr,\" is a Leap year\")\n",
    "        else:\n",
    "            print(yr, \"is not Leap year\")\n",
    "    else:\n",
    "        print(yr, \"is Leap year\")  \n",
    "else:\n",
    "    print(yr, \"is not Leap year\")                  "
   ]
  },
  {
   "cell_type": "code",
   "execution_count": 14,
   "metadata": {},
   "outputs": [
    {
     "name": "stdout",
     "output_type": "stream",
     "text": [
      "Enter the first Number\n",
      "Enter the second Number\n",
      "22.0\n",
      "354.0\n",
      "%\n",
      "Result 22.0\n"
     ]
    }
   ],
   "source": [
    "# Simple Calculator\n",
    "num1 = float(input(print(\"Enter the first Number\")))\n",
    "num2 = float(input(print(\"Enter the second Number\")))\n",
    "operation = input((\"Enter What you want to perform-->(+,-,*,%,/)\"))\n",
    "\n",
    "if operation==\"+\":\n",
    "    result = num1+num2\n",
    "elif operation==\"-\":\n",
    "    result = num1-num2\n",
    "    result = num1+num2\n",
    "elif operation==\"*\":\n",
    "    result = num1*num2\n",
    "elif operation==\"%\":\n",
    "    result = num1%num2\n",
    "elif operation==\"/\":\n",
    "    if num2 != 0:\n",
    "        result = num1/num2\n",
    "    else:\n",
    "        result= \"Error\"\n",
    "else:\n",
    "    result(\"Invalid\")\n",
    "print(num1)\n",
    "print(num2)\n",
    "print(operation)\n",
    "print(\"Result\",result)"
   ]
  },
  {
   "cell_type": "code",
   "execution_count": null,
   "metadata": {},
   "outputs": [],
   "source": []
  }
 ],
 "metadata": {
  "kernelspec": {
   "display_name": "base",
   "language": "python",
   "name": "python3"
  },
  "language_info": {
   "codemirror_mode": {
    "name": "ipython",
    "version": 3
   },
   "file_extension": ".py",
   "mimetype": "text/x-python",
   "name": "python",
   "nbconvert_exporter": "python",
   "pygments_lexer": "ipython3",
   "version": "3.11.7"
  }
 },
 "nbformat": 4,
 "nbformat_minor": 2
}
