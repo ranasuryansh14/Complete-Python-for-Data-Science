{
 "cells": [
  {
   "cell_type": "code",
   "execution_count": null,
   "metadata": {},
   "outputs": [],
   "source": [
    "# list"
   ]
  },
  {
   "cell_type": "code",
   "execution_count": 1,
   "metadata": {},
   "outputs": [
    {
     "name": "stdout",
     "output_type": "stream",
     "text": [
      "<class 'list'>\n"
     ]
    }
   ],
   "source": [
    "list=[]\n",
    "print(type(list))"
   ]
  },
  {
   "cell_type": "code",
   "execution_count": 2,
   "metadata": {},
   "outputs": [
    {
     "name": "stdout",
     "output_type": "stream",
     "text": [
      "[1, 2, 3, 4, 5, 6]\n"
     ]
    }
   ],
   "source": [
    "list=[1,2,3,4,5,6]\n",
    "print(list)"
   ]
  },
  {
   "cell_type": "code",
   "execution_count": 3,
   "metadata": {},
   "outputs": [
    {
     "name": "stdout",
     "output_type": "stream",
     "text": [
      "['hello', 33, 49.4, 'c']\n"
     ]
    }
   ],
   "source": [
    "mixed_list=[\"hello\",33,49.4,\"c\"]\n",
    "print(mixed_list)"
   ]
  },
  {
   "cell_type": "code",
   "execution_count": 4,
   "metadata": {},
   "outputs": [
    {
     "name": "stdout",
     "output_type": "stream",
     "text": [
      "cherry\n"
     ]
    }
   ],
   "source": [
    "## Accessing list items\n",
    "frt = [\"apple\",\"mango\",\"cherry\"]\n",
    "print(frt[2])"
   ]
  },
  {
   "cell_type": "code",
   "execution_count": 5,
   "metadata": {},
   "outputs": [
    {
     "data": {
      "text/plain": [
       "'mango'"
      ]
     },
     "execution_count": 5,
     "metadata": {},
     "output_type": "execute_result"
    }
   ],
   "source": [
    "frt[1]"
   ]
  },
  {
   "cell_type": "code",
   "execution_count": 6,
   "metadata": {},
   "outputs": [
    {
     "data": {
      "text/plain": [
       "'cherry'"
      ]
     },
     "execution_count": 6,
     "metadata": {},
     "output_type": "execute_result"
    }
   ],
   "source": [
    "frt[-1]"
   ]
  },
  {
   "cell_type": "code",
   "execution_count": 12,
   "metadata": {},
   "outputs": [
    {
     "name": "stdout",
     "output_type": "stream",
     "text": [
      "['cherry', 'banana', 'peach']\n",
      "['mango', 'cherry', 'banana']\n"
     ]
    }
   ],
   "source": [
    "frt = [\"apple\",\"mango\",\"cherry\",\"banana\",\"peach\"]\n",
    "\n",
    "print(frt[2:])\n",
    "print(frt[1:4])"
   ]
  },
  {
   "cell_type": "code",
   "execution_count": 15,
   "metadata": {},
   "outputs": [
    {
     "data": {
      "text/plain": [
       "['apple', 'kiwi', 'cherry', 'banana', 'peach']"
      ]
     },
     "execution_count": 15,
     "metadata": {},
     "output_type": "execute_result"
    }
   ],
   "source": [
    "#Modify\n",
    "frt = [\"apple\",\"mango\",\"cherry\",\"banana\",\"peach\"]\n",
    "\n",
    "frt[1]=\"kiwi\"\n",
    "frt"
   ]
  },
  {
   "cell_type": "code",
   "execution_count": 17,
   "metadata": {},
   "outputs": [
    {
     "data": {
      "text/plain": [
       "['apple', 'mango', 'cherry', 'banana', 'peach', 'kiwi']"
      ]
     },
     "execution_count": 17,
     "metadata": {},
     "output_type": "execute_result"
    }
   ],
   "source": [
    "frt = [\"apple\",\"mango\",\"cherry\",\"banana\",\"peach\"]\n",
    "frt.append(\"kiwi\")\n",
    "frt"
   ]
  },
  {
   "cell_type": "code",
   "execution_count": 19,
   "metadata": {},
   "outputs": [
    {
     "data": {
      "text/plain": [
       "['apple', 'kiwi', 'mango', 'cherry', 'banana', 'peach']"
      ]
     },
     "execution_count": 19,
     "metadata": {},
     "output_type": "execute_result"
    }
   ],
   "source": [
    "# list methods\n",
    "frt = [\"apple\",\"mango\",\"cherry\",\"banana\",\"peach\"]\n",
    "frt.insert(1,\"kiwi\")\n",
    "frt\n"
   ]
  },
  {
   "cell_type": "code",
   "execution_count": 28,
   "metadata": {},
   "outputs": [
    {
     "data": {
      "text/plain": [
       "['apple', 'mango', 'cherry', 'banana', 'peach']"
      ]
     },
     "execution_count": 28,
     "metadata": {},
     "output_type": "execute_result"
    }
   ],
   "source": [
    "frt = [\"apple\",\"kiwi\",\"strawberry\",\"mango\",\"cherry\",\"banana\",\"peach\"]\n",
    "\n",
    "frt.remove(\"kiwi\")\n",
    "frt"
   ]
  },
  {
   "cell_type": "code",
   "execution_count": 31,
   "metadata": {},
   "outputs": [
    {
     "name": "stdout",
     "output_type": "stream",
     "text": [
      "['apple', 'kiwi', 'strawberry', 'mango', 'cherry', 'banana', 'kiwi', 'peach']\n",
      "['apple', 'strawberry', 'mango', 'cherry', 'banana', 'kiwi', 'peach']\n"
     ]
    }
   ],
   "source": [
    "frt = [\"apple\",\"kiwi\",\"strawberry\",\"mango\",\"cherry\",\"banana\",\"kiwi\",\"peach\"]\n",
    "print(frt)\n",
    "frt.remove(\"kiwi\")\n",
    "print(frt)"
   ]
  },
  {
   "cell_type": "code",
   "execution_count": 43,
   "metadata": {},
   "outputs": [
    {
     "name": "stdout",
     "output_type": "stream",
     "text": [
      "['apple', 'kiwi', 'strawberry', 'mango', 'cherry', 'banana', 'kiwi', 'peach']\n",
      "peach\n",
      "['apple', 'kiwi', 'strawberry', 'mango', 'cherry', 'banana', 'kiwi']\n"
     ]
    }
   ],
   "source": [
    "frt = [\"apple\",\"kiwi\",\"strawberry\",\"mango\",\"cherry\",\"banana\",\"kiwi\",\"peach\"]\n",
    "print(frt)\n",
    "frt1=frt.pop()\n",
    "print(frt1)\n",
    "print(frt)"
   ]
  },
  {
   "cell_type": "code",
   "execution_count": 39,
   "metadata": {},
   "outputs": [
    {
     "name": "stdout",
     "output_type": "stream",
     "text": [
      "3\n"
     ]
    }
   ],
   "source": [
    "#index of element\n",
    "frt = [\"apple\",\"kiwi\",\"strawberry\",\"mango\",\"cherry\",\"banana\",\"kiwi\",\"peach\"]\n",
    "index = frt.index(\"mango\") #index\n",
    "print(index)"
   ]
  },
  {
   "cell_type": "code",
   "execution_count": 40,
   "metadata": {},
   "outputs": [
    {
     "name": "stdout",
     "output_type": "stream",
     "text": [
      "3\n"
     ]
    }
   ],
   "source": [
    "# count the number of element\n",
    "frt = [\"apple\",\"kiwi\",\"strawberry\",\"mango\",\"cherry\",\"banana\",\"kiwi\",\"peach\"]\n",
    "frt.insert(4,\"kiwi\")\n",
    "print(frt.count(\"kiwi\")) #count"
   ]
  },
  {
   "cell_type": "code",
   "execution_count": 45,
   "metadata": {},
   "outputs": [
    {
     "data": {
      "text/plain": [
       "['apple', 'banana', 'cherry', 'kiwi', 'kiwi', 'mango', 'strawberry']"
      ]
     },
     "execution_count": 45,
     "metadata": {},
     "output_type": "execute_result"
    }
   ],
   "source": [
    "frt.sort()\n",
    "frt"
   ]
  },
  {
   "cell_type": "code",
   "execution_count": 49,
   "metadata": {},
   "outputs": [],
   "source": [
    "frt.reverse()"
   ]
  },
  {
   "cell_type": "code",
   "execution_count": 50,
   "metadata": {},
   "outputs": [
    {
     "data": {
      "text/plain": [
       "['strawberry', 'mango', 'kiwi', 'kiwi', 'cherry', 'banana', 'apple']"
      ]
     },
     "execution_count": 50,
     "metadata": {},
     "output_type": "execute_result"
    }
   ],
   "source": [
    "frt"
   ]
  },
  {
   "cell_type": "code",
   "execution_count": 51,
   "metadata": {},
   "outputs": [],
   "source": [
    "frt.clear() ## remove all the elements"
   ]
  },
  {
   "cell_type": "code",
   "execution_count": 52,
   "metadata": {},
   "outputs": [
    {
     "data": {
      "text/plain": [
       "[]"
      ]
     },
     "execution_count": 52,
     "metadata": {},
     "output_type": "execute_result"
    }
   ],
   "source": [
    "frt"
   ]
  },
  {
   "cell_type": "code",
   "execution_count": 53,
   "metadata": {},
   "outputs": [
    {
     "name": "stdout",
     "output_type": "stream",
     "text": [
      "[3, 4, 5]\n"
     ]
    }
   ],
   "source": [
    "# slicing in list\n",
    "num = [1,2,3,4,5,6,7,8,9.10]\n",
    "print(num[2:5])"
   ]
  }
 ],
 "metadata": {
  "kernelspec": {
   "display_name": "base",
   "language": "python",
   "name": "python3"
  },
  "language_info": {
   "codemirror_mode": {
    "name": "ipython",
    "version": 3
   },
   "file_extension": ".py",
   "mimetype": "text/x-python",
   "name": "python",
   "nbconvert_exporter": "python",
   "pygments_lexer": "ipython3",
   "version": "3.11.7"
  }
 },
 "nbformat": 4,
 "nbformat_minor": 2
}
