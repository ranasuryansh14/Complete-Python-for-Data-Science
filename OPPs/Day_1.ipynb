{
 "cells": [
  {
   "cell_type": "markdown",
   "metadata": {},
   "source": [
    "# OOPs\n",
    "### Class and objects\n",
    "##"
   ]
  },
  {
   "cell_type": "code",
   "execution_count": 1,
   "metadata": {},
   "outputs": [
    {
     "name": "stdout",
     "output_type": "stream",
     "text": [
      "<class '__main__.Car'>\n"
     ]
    }
   ],
   "source": [
    "# Class is a blue print for creating objects. attributes, methods\n",
    "class Car:\n",
    "    pass\n",
    "\n",
    "audi = Car() # Objects\n",
    "bmw = Car()\n",
    "\n",
    "print(type(audi))"
   ]
  },
  {
   "cell_type": "code",
   "execution_count": 3,
   "metadata": {},
   "outputs": [
    {
     "name": "stdout",
     "output_type": "stream",
     "text": [
      "<__main__.Car object at 0x0000022E6ABF6550>\n",
      "<__main__.Car object at 0x0000022E6ABF6750>\n"
     ]
    }
   ],
   "source": [
    "print(audi)\n",
    "print(bmw)"
   ]
  },
  {
   "cell_type": "code",
   "execution_count": 5,
   "metadata": {},
   "outputs": [
    {
     "name": "stdout",
     "output_type": "stream",
     "text": [
      "4\n"
     ]
    }
   ],
   "source": [
    "## Instanace variable and Methods\n",
    "\n",
    "audi.windows = 4\n",
    "\n",
    "print(audi.windows)\n"
   ]
  },
  {
   "cell_type": "code",
   "execution_count": 6,
   "metadata": {},
   "outputs": [
    {
     "name": "stdout",
     "output_type": "stream",
     "text": [
      "4\n"
     ]
    }
   ],
   "source": [
    "tata = Car()  # new object\n",
    "tata.door = 4\n",
    "print(tata.door)"
   ]
  },
  {
   "cell_type": "code",
   "execution_count": 7,
   "metadata": {},
   "outputs": [
    {
     "data": {
      "text/plain": [
       "['__class__',\n",
       " '__delattr__',\n",
       " '__dict__',\n",
       " '__dir__',\n",
       " '__doc__',\n",
       " '__eq__',\n",
       " '__format__',\n",
       " '__ge__',\n",
       " '__getattribute__',\n",
       " '__getstate__',\n",
       " '__gt__',\n",
       " '__hash__',\n",
       " '__init__',\n",
       " '__init_subclass__',\n",
       " '__le__',\n",
       " '__lt__',\n",
       " '__module__',\n",
       " '__ne__',\n",
       " '__new__',\n",
       " '__reduce__',\n",
       " '__reduce_ex__',\n",
       " '__repr__',\n",
       " '__setattr__',\n",
       " '__sizeof__',\n",
       " '__str__',\n",
       " '__subclasshook__',\n",
       " '__weakref__',\n",
       " 'door']"
      ]
     },
     "execution_count": 7,
     "metadata": {},
     "output_type": "execute_result"
    }
   ],
   "source": [
    "dir(tata) ## In-built methods"
   ]
  },
  {
   "cell_type": "code",
   "execution_count": 13,
   "metadata": {},
   "outputs": [
    {
     "name": "stdout",
     "output_type": "stream",
     "text": [
      "<__main__.dog object at 0x0000022E6B8B8890>\n",
      "Belgium Minos\n",
      "5\n"
     ]
    }
   ],
   "source": [
    "## __init__\n",
    "## Instanace variable and Methods\n",
    "\n",
    "class dog:\n",
    "    # CONSTRUCTOR\n",
    "    def __init__(self,name,age): #Have to give this attribute in runtime\n",
    "        # self - it is responsible to excess the instance variable \n",
    "        self.name = name\n",
    "        self.age = age\n",
    "\n",
    "## Create Objects\n",
    "dog1 = dog(\"Belgium Minos\", 5)\n",
    "print(dog1)\n",
    "print(dog1.name)\n",
    "print(dog1.age)\n"
   ]
  },
  {
   "cell_type": "code",
   "execution_count": 14,
   "metadata": {},
   "outputs": [
    {
     "name": "stdout",
     "output_type": "stream",
     "text": [
      "Dashund\n",
      "11\n"
     ]
    }
   ],
   "source": [
    "dog2 = dog(\"Dashund\" , 11)\n",
    "print(dog2.name)\n",
    "print(dog2.age)"
   ]
  },
  {
   "cell_type": "code",
   "execution_count": 16,
   "metadata": {},
   "outputs": [
    {
     "name": "stdout",
     "output_type": "stream",
     "text": [
      "Rio says woof-woof\n",
      "Mack says woof-woof\n"
     ]
    }
   ],
   "source": [
    "## define a classs with instance method\n",
    "\n",
    "class dog:\n",
    "    def __init__(self,name,age):\n",
    "        self.name = name\n",
    "        self.age = age\n",
    "\n",
    "    def bark(self):\n",
    "        print(f\"{self.name} says woof-woof\")\n",
    "\n",
    "dog1 = dog(\"Rio\",3)\n",
    "dog1.bark()\n",
    "dog2 = dog(\"Mack\",5)\n",
    "dog2.bark()"
   ]
  },
  {
   "cell_type": "code",
   "execution_count": 20,
   "metadata": {},
   "outputs": [
    {
     "name": "stdout",
     "output_type": "stream",
     "text": [
      "Name is Rohan. Salary is 20000 and role is Painter\n",
      "Name is Harry. Salary is 10000 and role is Engineer\n"
     ]
    }
   ],
   "source": [
    "class Emp:\n",
    "    id = 0\n",
    "\n",
    "    def EmpData(self):\n",
    "        return f\"Name is {self.name}. Salary is {self.salary} and role is {self.role}\"\n",
    "\n",
    "harry = Emp()\n",
    "rohan = Emp()\n",
    "\n",
    "# Harry\n",
    "harry.name = \"Harry\"\n",
    "harry.salary = 10000\n",
    "harry.role = \"Engineer\" \n",
    "\n",
    "# Rohan\n",
    "rohan.name = \"Rohan\"\n",
    "rohan.salary = 20000\n",
    "rohan.role = \"Painter\"\n",
    "\n",
    "#print\n",
    "print(rohan.EmpData())\n",
    "print(harry.EmpData())"
   ]
  },
  {
   "cell_type": "code",
   "execution_count": 35,
   "metadata": {},
   "outputs": [
    {
     "data": {
      "text/plain": [
       "'Suryansh Rana: Your account balance amount is: 23000'"
      ]
     },
     "execution_count": 35,
     "metadata": {},
     "output_type": "execute_result"
    }
   ],
   "source": [
    "## Modeling a Bank account\n",
    "\n",
    "#define a Class for bank account\n",
    "\n",
    "class BankAccount:\n",
    "    def __init__(self, owner, deposit_money, balance=0):\n",
    "        self.owner = owner\n",
    "        self.balance = balance\n",
    "        self.deposit_money = deposit_money\n",
    "\n",
    "    def deposit(self, amount):\n",
    "        self.balance += amount\n",
    "        return f\"{self.owner}: Your deposited amount is: {amount}\"\n",
    "\n",
    "    def get_balance(self):\n",
    "        return f\"{self.owner}: Your account balance amount is: {self.balance}\"\n",
    "\n",
    "# objects\n",
    "user1 = BankAccount(\"Suryansh Rana\", 1000, 3000)\n",
    "user1.deposit(20000)  # Deposit more money\n",
    "user1.get_balance()  # Check balance\n"
   ]
  },
  {
   "cell_type": "code",
   "execution_count": null,
   "metadata": {},
   "outputs": [],
   "source": []
  },
  {
   "cell_type": "code",
   "execution_count": null,
   "metadata": {},
   "outputs": [],
   "source": []
  }
 ],
 "metadata": {
  "kernelspec": {
   "display_name": "base",
   "language": "python",
   "name": "python3"
  },
  "language_info": {
   "codemirror_mode": {
    "name": "ipython",
    "version": 3
   },
   "file_extension": ".py",
   "mimetype": "text/x-python",
   "name": "python",
   "nbconvert_exporter": "python",
   "pygments_lexer": "ipython3",
   "version": "3.11.7"
  }
 },
 "nbformat": 4,
 "nbformat_minor": 2
}
