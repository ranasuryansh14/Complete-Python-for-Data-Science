{
 "cells": [
  {
   "cell_type": "markdown",
   "metadata": {},
   "source": [
    "TypeCastinh list in set"
   ]
  },
  {
   "cell_type": "code",
   "execution_count": 2,
   "metadata": {},
   "outputs": [
    {
     "name": "stdout",
     "output_type": "stream",
     "text": [
      "{1, 2, 3, 4, 5, 6, 7}\n"
     ]
    }
   ],
   "source": [
    "\n",
    "lst = [1, 2, 2, 3, 3, 4, 5, 5, 6, 7]\n",
    "unique_elements = set(lst)\n",
    "print(unique_elements)"
   ]
  },
  {
   "cell_type": "code",
   "execution_count": 6,
   "metadata": {},
   "outputs": [
    {
     "name": "stdout",
     "output_type": "stream",
     "text": [
      "{'undergrad', 'am', 'I', 'Hey', 'Rana', 'Suryansh', 'Engineering'}\n",
      "7\n"
     ]
    }
   ],
   "source": [
    "### counting uniqye word in text\n",
    "\n",
    "text = \"Hey I am Suryansh Rana Engineering undergrad\"\n",
    "words=text.split()\n",
    "\n",
    "#convert list to set\n",
    "unique_words = set(words)\n",
    "print(unique_words)\n",
    "print(len(unique_words))"
   ]
  },
  {
   "cell_type": "code",
   "execution_count": 8,
   "metadata": {},
   "outputs": [
    {
     "name": "stdout",
     "output_type": "stream",
     "text": [
      "<class 'dict'>\n"
     ]
    }
   ],
   "source": [
    "#Creating dictionary\n",
    "dict={}\n",
    "print(type(dict))"
   ]
  },
  {
   "cell_type": "code",
   "execution_count": 9,
   "metadata": {},
   "outputs": [
    {
     "name": "stdout",
     "output_type": "stream",
     "text": [
      "{'Suryansh': 'Name', 18: 'age', 'BTech': 'Course'}\n"
     ]
    }
   ],
   "source": [
    "dict={\"Suryansh\":\"Name\",18:\"age\",\"BTech\":\"Course\"}\n",
    "print(dict)"
   ]
  },
  {
   "cell_type": "code",
   "execution_count": 12,
   "metadata": {},
   "outputs": [
    {
     "name": "stdout",
     "output_type": "stream",
     "text": [
      "{'Suryansh': 'who', 'age': 18, 'Course': 'BTech'}\n"
     ]
    }
   ],
   "source": [
    "#Single key\n",
    "dict={\"Suryansh\":\"Name\",\"age\":18,\"Course\":\"BTech\",\"Suryansh\":\"who\"}\n",
    "print(dict)"
   ]
  },
  {
   "cell_type": "code",
   "execution_count": 13,
   "metadata": {},
   "outputs": [
    {
     "name": "stdout",
     "output_type": "stream",
     "text": [
      "BTech\n"
     ]
    }
   ],
   "source": [
    "print(dict['Course']) #  by key"
   ]
  },
  {
   "cell_type": "code",
   "execution_count": 17,
   "metadata": {},
   "outputs": [
    {
     "name": "stdout",
     "output_type": "stream",
     "text": [
      "BTech\n",
      "Nahi hai bro\n"
     ]
    }
   ],
   "source": [
    "#Accessing by get method\n",
    "print(dict.get('Course'))\n",
    "print(dict.get('Course_passed',\"Nahi hai bro\"))"
   ]
  },
  {
   "cell_type": "code",
   "execution_count": null,
   "metadata": {},
   "outputs": [],
   "source": [
    "#Modifying dict ele\n",
    "# Dict is ---> is Mutable"
   ]
  },
  {
   "cell_type": "code",
   "execution_count": 18,
   "metadata": {},
   "outputs": [
    {
     "name": "stdout",
     "output_type": "stream",
     "text": [
      "{'Suryansh': 'who', 'age': 18, 'Course': 'BTech'}\n"
     ]
    }
   ],
   "source": [
    "print(dict)"
   ]
  },
  {
   "cell_type": "code",
   "execution_count": 19,
   "metadata": {},
   "outputs": [
    {
     "name": "stdout",
     "output_type": "stream",
     "text": [
      "{'Suryansh': 'who', 'age': 33, 'Course': 'BTech'}\n",
      "{'Suryansh': 'who', 'age': 33, 'Course': 'AIML'}\n"
     ]
    }
   ],
   "source": [
    "dict[\"age\"]=33\n",
    "print(dict)\n",
    "dict[\"Course\"]=\"AIML\"\n",
    "print(dict)"
   ]
  },
  {
   "cell_type": "code",
   "execution_count": 20,
   "metadata": {},
   "outputs": [
    {
     "name": "stdout",
     "output_type": "stream",
     "text": [
      "{'age': 33, 'Course': 'AIML'}\n"
     ]
    }
   ],
   "source": [
    "del dict[\"Suryansh\"]\n",
    "\n",
    "print(dict)"
   ]
  },
  {
   "cell_type": "code",
   "execution_count": 21,
   "metadata": {},
   "outputs": [
    {
     "name": "stdout",
     "output_type": "stream",
     "text": [
      "{'age': 33, 'Course': 'AIML'}\n"
     ]
    }
   ],
   "source": [
    "print(dict)"
   ]
  },
  {
   "cell_type": "code",
   "execution_count": 22,
   "metadata": {},
   "outputs": [
    {
     "name": "stdout",
     "output_type": "stream",
     "text": [
      "{'age': 20, 'Course': 'AIML'}\n"
     ]
    }
   ],
   "source": [
    "dict[\"age\"]=20\n",
    "print(dict)"
   ]
  },
  {
   "cell_type": "code",
   "execution_count": 24,
   "metadata": {},
   "outputs": [],
   "source": [
    "dict={'age': 20, 'Course': 'AIML', \"Address\":\"HP\", \"hobby\":\"football\"}"
   ]
  },
  {
   "cell_type": "code",
   "execution_count": 27,
   "metadata": {},
   "outputs": [
    {
     "name": "stdout",
     "output_type": "stream",
     "text": [
      "dict_keys(['age', 'Course', 'Address', 'hobby'])\n",
      "dict_values([20, 'AIML', 'HP', 'football'])\n"
     ]
    }
   ],
   "source": [
    "## dict Methods\n",
    "keys=dict.keys() ## get all the keys\n",
    "print(keys)\n",
    "val=dict.values()\n",
    "print(val) # get all Values"
   ]
  },
  {
   "cell_type": "code",
   "execution_count": 29,
   "metadata": {},
   "outputs": [
    {
     "name": "stdout",
     "output_type": "stream",
     "text": [
      "dict_items([('age', 20), ('Course', 'AIML'), ('Address', 'HP'), ('hobby', 'football')])\n"
     ]
    }
   ],
   "source": [
    "items=dict.items()\n",
    "print(items)\n",
    "\n",
    "#get all key value pairs in tuple"
   ]
  },
  {
   "cell_type": "markdown",
   "metadata": {},
   "source": [
    "# shallow copy"
   ]
  },
  {
   "cell_type": "code",
   "execution_count": 30,
   "metadata": {},
   "outputs": [
    {
     "data": {
      "text/plain": [
       "{'age': 20, 'Course': 'AIML', 'Address': 'HP', 'hobby': 'football'}"
      ]
     },
     "execution_count": 30,
     "metadata": {},
     "output_type": "execute_result"
    }
   ],
   "source": [
    "dict"
   ]
  },
  {
   "cell_type": "code",
   "execution_count": 32,
   "metadata": {},
   "outputs": [
    {
     "name": "stdout",
     "output_type": "stream",
     "text": [
      "{'age': 20, 'Course': 'AIML', 'Address': 'HP', 'hobby': 'football'}\n",
      "{'age': 20, 'Course': 'AIML', 'Address': 'HP', 'hobby': 'football'}\n"
     ]
    }
   ],
   "source": [
    "dict_copy=dict\n",
    "print(dict)\n",
    "print(dict_copy)"
   ]
  },
  {
   "cell_type": "code",
   "execution_count": 35,
   "metadata": {},
   "outputs": [
    {
     "name": "stdout",
     "output_type": "stream",
     "text": [
      "after change\n",
      "{'age': 69, 'Course': 'AIML', 'Address': 'HP', 'hobby': 'football'}\n",
      "{'age': 69, 'Course': 'AIML', 'Address': 'HP', 'hobby': 'football'}\n"
     ]
    }
   ],
   "source": [
    "\n",
    "print(\"after change\")\n",
    "dict[\"age\"] = 69\n",
    "print(dict)\n",
    "print(dict_copy)# this contain changed value\n",
    "# how???--->"
   ]
  },
  {
   "cell_type": "markdown",
   "metadata": {},
   "source": [
    "This can be solved with Shallow Copy"
   ]
  },
  {
   "cell_type": "code",
   "execution_count": 36,
   "metadata": {},
   "outputs": [
    {
     "name": "stdout",
     "output_type": "stream",
     "text": [
      "{'age': 69, 'Course': 'AIML', 'Address': 'HP', 'hobby': 'football'}\n",
      "{'age': 69, 'Course': 'AIML', 'Address': 'HP', 'hobby': 'football'}\n"
     ]
    }
   ],
   "source": [
    "dict__copy=dict.copy() # shall0w C0py\n",
    "print(dict)\n",
    "print(dict__copy)"
   ]
  },
  {
   "cell_type": "code",
   "execution_count": 38,
   "metadata": {},
   "outputs": [
    {
     "name": "stdout",
     "output_type": "stream",
     "text": [
      "{'age': 69, 'Course': 'AIML', 'Address': 'HP', 'hobby': 'football'}\n",
      "{'age': 96, 'Course': 'AIML', 'Address': 'HP', 'hobby': 'football'}\n"
     ]
    }
   ],
   "source": [
    "dict[\"age\"]= 96\n",
    "print(dict__copy) # no change\n",
    "print(dict)"
   ]
  },
  {
   "cell_type": "code",
   "execution_count": 51,
   "metadata": {},
   "outputs": [
    {
     "name": "stdout",
     "output_type": "stream",
     "text": [
      "age\n",
      "Course\n",
      "Address\n",
      "hobby\n"
     ]
    }
   ],
   "source": [
    "## iterating over Dictionary\n",
    "## loops over --> Key, Value, Items\n",
    "\n",
    "### Iterating over Key===>\n",
    "for keys in dict.keys():\n",
    "    print(keys)\n",
    "\n"
   ]
  },
  {
   "cell_type": "code",
   "execution_count": 52,
   "metadata": {},
   "outputs": [
    {
     "name": "stdout",
     "output_type": "stream",
     "text": [
      "96\n",
      "AIML\n",
      "HP\n",
      "football\n"
     ]
    }
   ],
   "source": [
    "### Iterating over Value===>\n",
    "for values in dict.values():\n",
    "    print(values)"
   ]
  },
  {
   "cell_type": "code",
   "execution_count": 53,
   "metadata": {},
   "outputs": [
    {
     "name": "stdout",
     "output_type": "stream",
     "text": [
      "('age', 96)\n",
      "('Course', 'AIML')\n",
      "('Address', 'HP')\n",
      "('hobby', 'football')\n"
     ]
    }
   ],
   "source": [
    "### Iterating over items===>\n",
    "for items in dict.items():\n",
    "    print(items)"
   ]
  },
  {
   "cell_type": "code",
   "execution_count": 56,
   "metadata": {},
   "outputs": [
    {
     "name": "stdout",
     "output_type": "stream",
     "text": [
      "{'dict1': {'Name': 'Suryansh', 'age': 18, 'Course': 'BTech'}, 'dict2': {'Name': 'Harsh', 'age': 22, 'Course': 'AI'}}\n"
     ]
    }
   ],
   "source": [
    "## nested dictionary\n",
    "\n",
    "dic ={\n",
    "    \"dict1\":{\"Name\":\"Suryansh\",\"age\":18,\"Course\":\"BTech\"},\n",
    "    \"dict2\":{\"Name\":\"Harsh\",\"age\":22,\"Course\":\"AI\"}\n",
    "}\n",
    "print(dic)"
   ]
  },
  {
   "cell_type": "code",
   "execution_count": 58,
   "metadata": {},
   "outputs": [
    {
     "name": "stdout",
     "output_type": "stream",
     "text": [
      "18\n",
      "22\n"
     ]
    }
   ],
   "source": [
    "#Access nested Dictionary\n",
    "\n",
    "print(dic[\"dict1\"][\"age\"])\n",
    "print(dic[\"dict2\"][\"age\"])"
   ]
  },
  {
   "cell_type": "code",
   "execution_count": 62,
   "metadata": {},
   "outputs": [
    {
     "name": "stdout",
     "output_type": "stream",
     "text": [
      "dict1:{'Name': 'Suryansh', 'age': 18, 'Course': 'BTech'}\n",
      "Name:Suryansh\n",
      "age:18\n",
      "Course:BTech\n",
      "dict2:{'Name': 'Harsh', 'age': 22, 'Course': 'AI'}\n",
      "Name:Harsh\n",
      "age:22\n",
      "Course:AI\n"
     ]
    }
   ],
   "source": [
    "for id,info in dic.items():\n",
    "    print(f\"{id}:{info}\")\n",
    "    for key ,value in info.items():\n",
    "        print(f\"{key}:{value}\")"
   ]
  },
  {
   "cell_type": "code",
   "execution_count": 64,
   "metadata": {},
   "outputs": [
    {
     "name": "stdout",
     "output_type": "stream",
     "text": [
      "{0: 0, 2: 4, 4: 16, 6: 36, 8: 64}\n"
     ]
    }
   ],
   "source": [
    "# dictionary Comprehension\n",
    "sq={x:x**2 for x in range(10) if x%2==0}\n",
    "print(sq)"
   ]
  },
  {
   "cell_type": "code",
   "execution_count": 66,
   "metadata": {},
   "outputs": [
    {
     "name": "stdout",
     "output_type": "stream",
     "text": [
      "{2: 1, 3: 4, 5: 5, 4: 1}\n"
     ]
    }
   ],
   "source": [
    "# practical Example\n",
    "# use Dict to count the feq and elements in list\n",
    "num=[2,3,5,3,3,5,3,4,5,5,5]\n",
    "freq={}\n",
    "\n",
    "for i in num:\n",
    "    if i in freq:\n",
    "        freq[i]+=1\n",
    "    else:\n",
    "        freq[i]=1\n",
    "print(freq)"
   ]
  },
  {
   "cell_type": "code",
   "execution_count": 68,
   "metadata": {},
   "outputs": [
    {
     "name": "stdout",
     "output_type": "stream",
     "text": [
      "{'Name': 'Suryansh', 'age': 18, 'Course': 'AI', 'Name1': 'Harsh', 'age1': 22}\n"
     ]
    }
   ],
   "source": [
    "#Merge 2 dictionary into one\n",
    "dict1={'Name': 'Suryansh', 'age': 18, 'Course': 'BTech'}\n",
    "dict2={'Name1': 'Harsh', 'age1': 22, 'Course': 'AI'}\n",
    "\n",
    "merge_dict ={**dict1,**dict2}\n",
    "print(merge_dict)"
   ]
  },
  {
   "cell_type": "code",
   "execution_count": null,
   "metadata": {},
   "outputs": [],
   "source": []
  }
 ],
 "metadata": {
  "kernelspec": {
   "display_name": "base",
   "language": "python",
   "name": "python3"
  },
  "language_info": {
   "codemirror_mode": {
    "name": "ipython",
    "version": 3
   },
   "file_extension": ".py",
   "mimetype": "text/x-python",
   "name": "python",
   "nbconvert_exporter": "python",
   "pygments_lexer": "ipython3",
   "version": "3.11.7"
  }
 },
 "nbformat": 4,
 "nbformat_minor": 2
}
