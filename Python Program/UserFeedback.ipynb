{
 "cells": [
  {
   "cell_type": "code",
   "execution_count": 1,
   "metadata": {},
   "outputs": [
    {
     "name": "stdout",
     "output_type": "stream",
     "text": [
      "positive_feedback_Count: 2\n",
      "User Feedback\n",
      "-Nice Service\n",
      "-Need Improvement\n",
      "-Can be better\n",
      "-Excellent\n",
      "-Great work\n"
     ]
    }
   ],
   "source": [
    "# Collecting user Feed back\n",
    "\n",
    "feedback = [\"Nice Service\",\"Need Improvement\",\"Can be better\",\"Excellent\"]\n",
    "\n",
    "#Adding a new feedback\n",
    "feedback.append(\"Great work\")\n",
    "\n",
    "#Count feedback\n",
    "positive_feedback_Count= sum(1 for comment in feedback if \"great\" in comment.lower() or \"excellent\" in comment.lower())\n",
    "print(f\"positive_feedback_Count: {positive_feedback_Count}\")\n",
    "\n",
    "# print all feedback\n",
    "print(\"User Feedback\")\n",
    "for i in feedback:\n",
    "    print(f\"-{i}\")\n"
   ]
  }
 ],
 "metadata": {
  "kernelspec": {
   "display_name": "base",
   "language": "python",
   "name": "python3"
  },
  "language_info": {
   "codemirror_mode": {
    "name": "ipython",
    "version": 3
   },
   "file_extension": ".py",
   "mimetype": "text/x-python",
   "name": "python",
   "nbconvert_exporter": "python",
   "pygments_lexer": "ipython3",
   "version": "3.11.7"
  }
 },
 "nbformat": 4,
 "nbformat_minor": 2
}
