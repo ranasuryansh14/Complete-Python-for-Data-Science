{
 "cells": [
  {
   "cell_type": "code",
   "execution_count": 2,
   "metadata": {},
   "outputs": [
    {
     "name": "stdout",
     "output_type": "stream",
     "text": [
      "array('i', [1, 2, 34, 5, 67, 8])\n"
     ]
    }
   ],
   "source": [
    "# array \n",
    "import array\n",
    "arr = array.array('i', [1,2,34,5,67,8])\n",
    "print(arr)"
   ]
  },
  {
   "cell_type": "code",
   "execution_count": 4,
   "metadata": {},
   "outputs": [
    {
     "name": "stdout",
     "output_type": "stream",
     "text": [
      "8.18535277187245\n"
     ]
    }
   ],
   "source": [
    "# math\n",
    "import math\n",
    "print(math.sqrt(67))"
   ]
  },
  {
   "cell_type": "code",
   "execution_count": 13,
   "metadata": {},
   "outputs": [
    {
     "name": "stdout",
     "output_type": "stream",
     "text": [
      "4\n",
      "28\n",
      "apple\n"
     ]
    }
   ],
   "source": [
    "# random\n",
    "import random\n",
    "print(random.randint(1,6))\n",
    "print(random.randrange(2,56))\n",
    "print(random.choice([\"apple\",\"banana\",\"kiwi\",\"berry\"]))"
   ]
  },
  {
   "cell_type": "code",
   "execution_count": 15,
   "metadata": {},
   "outputs": [
    {
     "name": "stdout",
     "output_type": "stream",
     "text": [
      "v:\\ML CODE\\Eighth Day\\Standard  Lib\n"
     ]
    }
   ],
   "source": [
    "## File And Directory Access Lib\n",
    "### OS\n",
    "import os\n",
    "print(os.getcwd()) # getcurrenworking dir\n"
   ]
  },
  {
   "cell_type": "code",
   "execution_count": 16,
   "metadata": {},
   "outputs": [],
   "source": [
    "os.mkdir('test_dir')"
   ]
  },
  {
   "cell_type": "code",
   "execution_count": 17,
   "metadata": {},
   "outputs": [],
   "source": [
    "# Open a file in write mode, which creates the file if it does not exist\n",
    "with open('example.txt', 'w') as file:\n",
    "    file.write(\"This is a new file created using Python.\\n\")\n",
    "    file.write(\"You can write any content here.\")\n",
    "\n",
    "# File is automatically closed after the with block\n"
   ]
  },
  {
   "cell_type": "code",
   "execution_count": 18,
   "metadata": {},
   "outputs": [],
   "source": [
    "# Open a file in write mode, which creates the file if it does not exist\n",
    "with open('example.py', 'w') as file:\n",
    "    file.write(\"This is a new file created using Python.\\n\")\n",
    "    file.write(\"You can write any content here.\")\n",
    "\n",
    "# File is automatically closed after the with block\n"
   ]
  },
  {
   "cell_type": "code",
   "execution_count": 19,
   "metadata": {},
   "outputs": [
    {
     "data": {
      "text/plain": [
       "'copy.txt'"
      ]
     },
     "execution_count": 19,
     "metadata": {},
     "output_type": "execute_result"
    }
   ],
   "source": [
    "## high level operation on Files\n",
    "\n",
    "import shutil\n",
    "shutil.copyfile('example.txt','copy.txt')"
   ]
  },
  {
   "cell_type": "code",
   "execution_count": 22,
   "metadata": {},
   "outputs": [
    {
     "name": "stdout",
     "output_type": "stream",
     "text": [
      "<class 'dict'>\n",
      "{\"Name\": \"Suryansh Rana\", \"Age\": 21}\n",
      "<class 'str'>\n"
     ]
    }
   ],
   "source": [
    "## Data Serialization\n",
    "import json\n",
    "data={'Name':'Suryansh Rana','Age':21}\n",
    "print(type(data))\n",
    "#Coverted the data dict into json file \n",
    "json_str = json.dumps(data)\n",
    "print(json_str)\n",
    "print(type(json_str))"
   ]
  },
  {
   "cell_type": "code",
   "execution_count": 25,
   "metadata": {},
   "outputs": [
    {
     "name": "stdout",
     "output_type": "stream",
     "text": [
      "{'Name': 'Suryansh Rana', 'Age': 21}\n",
      "<class 'dict'>\n"
     ]
    }
   ],
   "source": [
    "## converting json to dict\n",
    "passed_Data = json.loads(json_str)\n",
    "print(passed_Data)\n",
    "print(type(passed_Data))"
   ]
  },
  {
   "cell_type": "code",
   "execution_count": 32,
   "metadata": {},
   "outputs": [],
   "source": [
    "## csv \n",
    "import csv\n",
    "with open('sample.csv',mode='w', newline='') as file:\n",
    "    writer = csv.writer(file)\n",
    "    writer.writerow(['name','age'])\n",
    "    writer.writerow(['Suryansh Rana',22])\n",
    "\n",
    "\n",
    "    with open('sample.csv' , mode = 'r') as file:\n",
    "        reader = csv.reader(file)\n",
    "        for row in reader:\n",
    "            print(row)"
   ]
  },
  {
   "cell_type": "code",
   "execution_count": 37,
   "metadata": {},
   "outputs": [
    {
     "name": "stdout",
     "output_type": "stream",
     "text": [
      "2024-07-27 20:46:08.828315\n",
      "2024-07-26 20:46:08.828315\n"
     ]
    }
   ],
   "source": [
    "## datetime\n",
    "from datetime import datetime, timedelta\n",
    "\n",
    "## current time\n",
    "now = datetime.now()\n",
    "print(now)\n",
    "\n",
    "yesterDay = now - timedelta(days=1)\n",
    "print(yesterDay)"
   ]
  },
  {
   "cell_type": "code",
   "execution_count": 41,
   "metadata": {},
   "outputs": [
    {
     "name": "stdout",
     "output_type": "stream",
     "text": [
      "1722093446.42575\n",
      "1722093450.426732\n"
     ]
    }
   ],
   "source": [
    "## time\n",
    "import time\n",
    "print(time.time())\n",
    "time.sleep(4)\n",
    "print(time.time())"
   ]
  },
  {
   "cell_type": "code",
   "execution_count": 43,
   "metadata": {},
   "outputs": [
    {
     "name": "stdout",
     "output_type": "stream",
     "text": [
      "54\n"
     ]
    }
   ],
   "source": [
    "## regular Expression\n",
    "\n",
    "import re\n",
    "\n",
    "pattern = r'\\d+'\n",
    "\n",
    "text = \"Hey i am django 54 developer and i m learning ml 43 ajs 39\"\n",
    "match = re.search(pattern,text)\n",
    "print(match.group())"
   ]
  }
 ],
 "metadata": {
  "kernelspec": {
   "display_name": "base",
   "language": "python",
   "name": "python3"
  },
  "language_info": {
   "codemirror_mode": {
    "name": "ipython",
    "version": 3
   },
   "file_extension": ".py",
   "mimetype": "text/x-python",
   "name": "python",
   "nbconvert_exporter": "python",
   "pygments_lexer": "ipython3",
   "version": "3.11.7"
  }
 },
 "nbformat": 4,
 "nbformat_minor": 2
}
