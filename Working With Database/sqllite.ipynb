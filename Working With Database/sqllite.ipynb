{
 "cells": [
  {
   "cell_type": "markdown",
   "metadata": {},
   "source": [
    "## SQL and SQlite"
   ]
  },
  {
   "cell_type": "markdown",
   "metadata": {},
   "source": [
    "#### __SQL__ is a standard language for managing and manipulating relational Databases"
   ]
  },
  {
   "cell_type": "markdown",
   "metadata": {},
   "source": [
    "#### __SQLite__ is a self-contained, serverless, and zero-configuration database engine that is widely used for embedded database system"
   ]
  },
  {
   "cell_type": "code",
   "execution_count": 2,
   "metadata": {},
   "outputs": [],
   "source": [
    "import sqlite3 "
   ]
  },
  {
   "cell_type": "code",
   "execution_count": 3,
   "metadata": {},
   "outputs": [
    {
     "data": {
      "text/plain": [
       "<sqlite3.Connection at 0x2025992c400>"
      ]
     },
     "execution_count": 3,
     "metadata": {},
     "output_type": "execute_result"
    }
   ],
   "source": [
    "## Connect To SQLite database\n",
    "connection=sqlite3.connect('example.db')\n",
    "connection"
   ]
  },
  {
   "cell_type": "code",
   "execution_count": 4,
   "metadata": {},
   "outputs": [],
   "source": [
    "## Creating Cursor Obj for iterating through table items\n",
    "cursor = connection.cursor()"
   ]
  },
  {
   "cell_type": "code",
   "execution_count": 5,
   "metadata": {},
   "outputs": [],
   "source": [
    "## Creating Table\n",
    "cursor.execute('''\n",
    "CREATE TABLE IF NOT EXISTS EMPLOYEES(\n",
    "    ID Integer Primary Key,\n",
    "    Name Text NOT NULL,\n",
    "    Age Integer,\n",
    "    Department Text\n",
    "    )\n",
    "''')\n",
    "\n",
    "## Commit the changes \n",
    "connection.commit()"
   ]
  },
  {
   "cell_type": "code",
   "execution_count": 6,
   "metadata": {},
   "outputs": [
    {
     "data": {
      "text/plain": [
       "<sqlite3.Cursor at 0x20259a293c0>"
      ]
     },
     "execution_count": 6,
     "metadata": {},
     "output_type": "execute_result"
    }
   ],
   "source": [
    "cursor.execute('''\n",
    "SELECT * FROM EMPLOYEES\n",
    "''')"
   ]
  },
  {
   "cell_type": "code",
   "execution_count": 7,
   "metadata": {},
   "outputs": [],
   "source": [
    "### INSERT DATA IN SQLite TABLE \n",
    "cursor.execute('''\n",
    "INSERT INTO EMPLOYEES(ID,Name,Age,Department)\n",
    "               values(1324,\"Suryansh Rana\",21,'Machine Learning')\n",
    "''') \n",
    "cursor.execute('''\n",
    "INSERT INTO EMPLOYEES(ID,Name,Age,Department)\n",
    "               values(5324,\"Kanu Rana\",24,'Machine Learning')\n",
    "''') \n",
    "cursor.execute('''\n",
    "INSERT INTO EMPLOYEES(ID,Name,Age,Department)\n",
    "               values(1624,\"kusum Rana\",42,'IT')\n",
    "''') \n",
    "cursor.execute('''\n",
    "INSERT INTO EMPLOYEES(ID,Name,Age,Department)\n",
    "               values(3524,\"Rio Rana\",49,'Machine Learning')\n",
    "''') \n",
    "\n",
    "## commiting code\n",
    "connection.commit()"
   ]
  },
  {
   "cell_type": "code",
   "execution_count": 17,
   "metadata": {},
   "outputs": [
    {
     "name": "stdout",
     "output_type": "stream",
     "text": [
      "(1324, 'Suryansh Rana', 23, 'Machine Learning')\n",
      "(1624, 'kusum Rana', 42, 'IT')\n",
      "(3524, 'Rio Rana', 49, 'Machine Learning')\n",
      "(5324, 'Kanu Rana', 24, 'Machine Learning')\n"
     ]
    }
   ],
   "source": [
    "## Querying the data from the table in SQLite\n",
    "\n",
    "cursor.execute(\"Select * from Employees\")\n",
    "rows = cursor.fetchall()\n",
    "## print Queried data\n",
    "for row in rows:\n",
    "    print(row)"
   ]
  },
  {
   "cell_type": "code",
   "execution_count": 16,
   "metadata": {},
   "outputs": [],
   "source": [
    "## Update The Data in Table\n",
    "cursor.execute('''\n",
    "UPDATE employees\n",
    "Set age = 23\n",
    "WHERE name = \"Suryansh Rana\"\n",
    "               \n",
    "''')\n",
    "## Commit \n",
    "connection.commit()"
   ]
  },
  {
   "cell_type": "code",
   "execution_count": 18,
   "metadata": {},
   "outputs": [],
   "source": [
    "## Delete Data From the Table \n",
    "cursor.execute('''\n",
    "Delete from employees\n",
    "               where name = \"Kanu Rana\"\n",
    "''')\n",
    "connection.commit()"
   ]
  },
  {
   "cell_type": "code",
   "execution_count": 19,
   "metadata": {},
   "outputs": [
    {
     "name": "stdout",
     "output_type": "stream",
     "text": [
      "(1324, 'Suryansh Rana', 23, 'Machine Learning')\n",
      "(1624, 'kusum Rana', 42, 'IT')\n",
      "(3524, 'Rio Rana', 49, 'Machine Learning')\n"
     ]
    }
   ],
   "source": [
    "cursor.execute(\"Select * from Employees\")\n",
    "rows = cursor.fetchall()\n",
    "## print Queried data\n",
    "for row in rows:\n",
    "    print(row)"
   ]
  },
  {
   "cell_type": "code",
   "execution_count": 21,
   "metadata": {},
   "outputs": [],
   "source": [
    "## Working Wwith Sales Data\n",
    "# Connect to an SQLite database\n",
    "connection = sqlite3.connect('sales_data.db')\n",
    "cursor = connection.cursor()\n",
    "\n",
    "# Create a table for sales data\n",
    "cursor.execute('''\n",
    "CREATE TABLE IF NOT EXISTS sales (\n",
    "    id INTEGER PRIMARY KEY,\n",
    "    date TEXT NOT NULL,\n",
    "    product TEXT NOT NULL,\n",
    "    sales INTEGER,\n",
    "    region TEXT\n",
    ")\n",
    "''')\n",
    "\n",
    "# Insert data into the sales table\n",
    "sales_data = [\n",
    "    ('2023-01-01', 'Product1', 100, 'North'),\n",
    "    ('2023-01-02', 'Product2', 200, 'South'),\n",
    "    ('2023-01-03', 'Product1', 150, 'East'),\n",
    "    ('2023-01-04', 'Product3', 250, 'West'),\n",
    "    ('2023-01-05', 'Product2', 300, 'North')\n",
    "]\n",
    "\n",
    "cursor.executemany('''\n",
    "Insert into sales(date,product,sales,region)\n",
    "                   values(?,?,?,?)\n",
    "''',sales_data) # adding data like list\n",
    "\n",
    "connection.commit()"
   ]
  },
  {
   "cell_type": "code",
   "execution_count": 22,
   "metadata": {},
   "outputs": [
    {
     "name": "stdout",
     "output_type": "stream",
     "text": [
      "(1, '2023-01-01', 'Product1', 100, 'North')\n",
      "(2, '2023-01-02', 'Product2', 200, 'South')\n",
      "(3, '2023-01-03', 'Product1', 150, 'East')\n",
      "(4, '2023-01-04', 'Product3', 250, 'West')\n",
      "(5, '2023-01-05', 'Product2', 300, 'North')\n"
     ]
    }
   ],
   "source": [
    "cursor.execute(\"Select * from sales\")\n",
    "rows = cursor.fetchall()\n",
    "## print Queried data\n",
    "for row in rows:\n",
    "    print(row)"
   ]
  },
  {
   "cell_type": "code",
   "execution_count": 23,
   "metadata": {},
   "outputs": [],
   "source": [
    "## close the connection\n",
    "connection.close()"
   ]
  },
  {
   "cell_type": "code",
   "execution_count": 24,
   "metadata": {},
   "outputs": [
    {
     "ename": "TypeError",
     "evalue": "execute expected at least 1 argument, got 0",
     "output_type": "error",
     "traceback": [
      "\u001b[1;31m---------------------------------------------------------------------------\u001b[0m",
      "\u001b[1;31mTypeError\u001b[0m                                 Traceback (most recent call last)",
      "Cell \u001b[1;32mIn[24], line 1\u001b[0m\n\u001b[1;32m----> 1\u001b[0m cursor\u001b[38;5;241m.\u001b[39mexecute()\n",
      "\u001b[1;31mTypeError\u001b[0m: execute expected at least 1 argument, got 0"
     ]
    }
   ],
   "source": [
    "cursor.execute() #connection is closed"
   ]
  }
 ],
 "metadata": {
  "kernelspec": {
   "display_name": "base",
   "language": "python",
   "name": "python3"
  },
  "language_info": {
   "codemirror_mode": {
    "name": "ipython",
    "version": 3
   },
   "file_extension": ".py",
   "mimetype": "text/x-python",
   "name": "python",
   "nbconvert_exporter": "python",
   "pygments_lexer": "ipython3",
   "version": "3.11.7"
  }
 },
 "nbformat": 4,
 "nbformat_minor": 2
}
