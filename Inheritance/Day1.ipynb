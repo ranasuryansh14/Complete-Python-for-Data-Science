{
 "cells": [
  {
   "cell_type": "markdown",
   "metadata": {},
   "source": [
    "# Inheritance in Python"
   ]
  },
  {
   "cell_type": "code",
   "execution_count": 3,
   "metadata": {},
   "outputs": [
    {
     "name": "stdout",
     "output_type": "stream",
     "text": [
      "The person will Drive the Petrol Engine car\n"
     ]
    }
   ],
   "source": [
    "# Inheritance --Single inheritance\n",
    "\n",
    "##Parent Class\n",
    "class Car:\n",
    "    def __init__(self,windows,doors,engineType):\n",
    "        self.windows = windows\n",
    "        self.doors = doors\n",
    "        self.engineType = engineType\n",
    "\n",
    "    def drive(self):\n",
    "        return f\"The person will Drive the {self.engineType} car\"\n",
    "    \n",
    "car1 = Car(4,4,\"Petrol Engine\")\n",
    "print(car1.drive())"
   ]
  },
  {
   "cell_type": "code",
   "execution_count": 5,
   "metadata": {},
   "outputs": [
    {
     "name": "stdout",
     "output_type": "stream",
     "text": [
      "The person will Drive the Triple Transmission Engine car\n"
     ]
    }
   ],
   "source": [
    "car2 = Car(4,4,\"Triple Transmission Engine\")\n",
    "print(car2.drive())"
   ]
  },
  {
   "cell_type": "code",
   "execution_count": 8,
   "metadata": {},
   "outputs": [],
   "source": [
    "## Inherit\n",
    "\n",
    "class Tesla(Car):\n",
    "    def __init__(self,windows,doors,engineType,is_selfdriving):\n",
    "        super().__init__(windows,doors,engineType)\n",
    "        self.is_selfdriving = is_selfdriving\n",
    "    def selfdriving(self):\n",
    "        print(f\"Tesla Supports self driving :  {self.is_selfdriving}\")\n"
   ]
  },
  {
   "cell_type": "code",
   "execution_count": 9,
   "metadata": {},
   "outputs": [
    {
     "name": "stdout",
     "output_type": "stream",
     "text": [
      "Tesla Supports self driving :  True\n"
     ]
    }
   ],
   "source": [
    "tesla1 = Tesla(4,6,\"electric\", True)\n",
    "tesla1.selfdriving()"
   ]
  },
  {
   "cell_type": "code",
   "execution_count": 8,
   "metadata": {},
   "outputs": [
    {
     "name": "stdout",
     "output_type": "stream",
     "text": [
      "Choco say Woof-Woof\n",
      "Doogo:Choco\n",
      "Owner:Suryansh\n"
     ]
    }
   ],
   "source": [
    "#  Multiple inhertance \n",
    "class Animal: #base class 1\n",
    "    def __init__(self,name):\n",
    "        self.name = name\n",
    "\n",
    "    def speak(self):\n",
    "        print(\"Subclass must implement this method\")\n",
    "\n",
    "class Pet: # base class 2\n",
    "    def __init__(self,owner):\n",
    "        self.owner = owner\n",
    "\n",
    "#derived Class\n",
    "class Dog(Animal,Pet): #multiple Class inherit\n",
    "    def __init__(self,name,owner):\n",
    "        Animal.__init__(self,name)\n",
    "        Pet.__init__(self,owner)\n",
    "    \n",
    "    def speak(self):\n",
    "        return f\"{self.name} say Woof-Woof\"\n",
    "    \n",
    "#create obj\n",
    "dog = Dog(\"Choco\", \"Suryansh\")\n",
    "print(dog.speak())\n",
    "print(f\"Doogo:{dog.name}\")\n",
    "print(f\"Owner:{dog.owner}\")"
   ]
  }
 ],
 "metadata": {
  "kernelspec": {
   "display_name": "base",
   "language": "python",
   "name": "python3"
  },
  "language_info": {
   "codemirror_mode": {
    "name": "ipython",
    "version": 3
   },
   "file_extension": ".py",
   "mimetype": "text/x-python",
   "name": "python",
   "nbconvert_exporter": "python",
   "pygments_lexer": "ipython3",
   "version": "3.11.7"
  }
 },
 "nbformat": 4,
 "nbformat_minor": 2
}
