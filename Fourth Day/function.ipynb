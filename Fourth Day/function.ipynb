{
 "cells": [
  {
   "cell_type": "code",
   "execution_count": 1,
   "metadata": {},
   "outputs": [],
   "source": [
    "\n",
    "# Intro to Function\n"
   ]
  },
  {
   "cell_type": "code",
   "execution_count": null,
   "metadata": {},
   "outputs": [],
   "source": [
    "## syntax\n",
    "def function_name(parameters):\n",
    "    \"\"\"Docstrings\"\"\"\n",
    "    #fuction body\n",
    "    return expression"
   ]
  },
  {
   "cell_type": "code",
   "execution_count": 3,
   "metadata": {},
   "outputs": [
    {
     "name": "stdout",
     "output_type": "stream",
     "text": [
      "The num is Even\n"
     ]
    }
   ],
   "source": [
    "## Why Function? \n",
    "# --For Reuse\n",
    "num=24\n",
    "if num%2==0:\n",
    "    print(\"The num is Even\")\n",
    "else:\n",
    "    print(\"The num is odd\")"
   ]
  },
  {
   "cell_type": "code",
   "execution_count": 2,
   "metadata": {},
   "outputs": [
    {
     "name": "stdout",
     "output_type": "stream",
     "text": [
      "Enter the number\n",
      "The 56 is Even\n"
     ]
    }
   ],
   "source": [
    "def num_check(num):\n",
    "    \"\"\"To Check number is even Or odd\"\"\"\n",
    "    if num%2==0:\n",
    "       print(f\"The {num} is Even\")\n",
    "    else:\n",
    "       print(f\"The {num} is Odd\")\n",
    "#CALL FUNCTION \n",
    "num = int(input(print(\"Enter the number\")))      \n",
    "num_check(num)"
   ]
  },
  {
   "cell_type": "code",
   "execution_count": 1,
   "metadata": {},
   "outputs": [
    {
     "name": "stdout",
     "output_type": "stream",
     "text": [
      "Enter the First Number :\n",
      "55\n",
      "Enter the Second Number :\n",
      "6\n"
     ]
    },
    {
     "data": {
      "text/plain": [
       "61"
      ]
     },
     "execution_count": 1,
     "metadata": {},
     "output_type": "execute_result"
    }
   ],
   "source": [
    "## Function with Multiple Parameter\n",
    "\n",
    "def add(a,b):\n",
    "    \"\"\"Addition of two number\"\"\"\n",
    "    return a+b\n",
    "a = int(input(print(\"Enter the First Number :\")))\n",
    "print(a)\n",
    "b = int(input(print(\"Enter the Second Number :\")))\n",
    "print(b)\n",
    "add(a,b)"
   ]
  },
  {
   "cell_type": "code",
   "execution_count": 7,
   "metadata": {},
   "outputs": [
    {
     "name": "stdout",
     "output_type": "stream",
     "text": [
      "Hello Guest welcome to our World\n",
      "Hello Suryansh Rana welcome to our World\n"
     ]
    }
   ],
   "source": [
    "## Default Parameter\n",
    "\n",
    "def greet(name=\"Guest\"): #Default Parameter\n",
    "    print(f\"Hello {name} welcome to our World\")\n",
    "\n",
    "greet() ## Error missing Parameter--> but now guest as default\n",
    "\n",
    "greet(\"Suryansh Rana\") ## if given it will take this "
   ]
  },
  {
   "cell_type": "code",
   "execution_count": 13,
   "metadata": {},
   "outputs": [
    {
     "name": "stdout",
     "output_type": "stream",
     "text": [
      "1\n",
      "2\n",
      "3\n",
      "4\n",
      "5\n",
      "6\n",
      "7\n",
      "8\n",
      "9\n",
      "Suryansh\n"
     ]
    }
   ],
   "source": [
    "## variable length arugements\n",
    "\n",
    "##--> Positional and keyword arguments\n",
    "\n",
    "def print_number(*args):  #*surya is also acceptable but world wide practice\n",
    "    for i in args: # only one single\n",
    "        print(i)\n",
    "\n",
    "print_number(1,2,3,4,5,6,7,8,9,'Suryansh')"
   ]
  },
  {
   "cell_type": "code",
   "execution_count": 14,
   "metadata": {},
   "outputs": [],
   "source": [
    "# Keyword arguments\n",
    "def print_detail(**kwargs): #key-value pair\n",
    "    for key,value in kwargs.items():\n",
    "        print(f\"{key}:{value}\")\n"
   ]
  },
  {
   "cell_type": "code",
   "execution_count": 16,
   "metadata": {},
   "outputs": [
    {
     "name": "stdout",
     "output_type": "stream",
     "text": [
      "name:Suryansh\n",
      "age:22\n",
      "country:india\n"
     ]
    }
   ],
   "source": [
    "print_detail(name=\"Suryansh\",age=\"22\",country=\"india\")"
   ]
  },
  {
   "cell_type": "code",
   "execution_count": 17,
   "metadata": {},
   "outputs": [],
   "source": [
    "## return statements"
   ]
  },
  {
   "cell_type": "code",
   "execution_count": 20,
   "metadata": {},
   "outputs": [
    {
     "data": {
      "text/plain": [
       "(48, 24, 2)"
      ]
     },
     "execution_count": 20,
     "metadata": {},
     "output_type": "execute_result"
    }
   ],
   "source": [
    "def mul(a,b):\n",
    "    return a*b,a,b # multiple can be returned\n",
    "mul(24,2)"
   ]
  }
 ],
 "metadata": {
  "kernelspec": {
   "display_name": "base",
   "language": "python",
   "name": "python3"
  },
  "language_info": {
   "codemirror_mode": {
    "name": "ipython",
    "version": 3
   },
   "file_extension": ".py",
   "mimetype": "text/x-python",
   "name": "python",
   "nbconvert_exporter": "python",
   "pygments_lexer": "ipython3",
   "version": "3.11.7"
  }
 },
 "nbformat": 4,
 "nbformat_minor": 2
}
